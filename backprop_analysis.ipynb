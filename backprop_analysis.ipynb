{
 "cells": [
  {
   "cell_type": "code",
   "execution_count": 43,
   "metadata": {},
   "outputs": [
    {
     "name": "stdout",
     "output_type": "stream",
     "text": [
      "Input sent: tensor([6, 3, 1, 0])\n",
      "Output sent: tensor([5, 2, 7, 6])\n",
      "torch.Size([1, 4, 1024])\n",
      "Shape of Decoder output: torch.Size([1, 4, 512])\n",
      "The predicted logits are tensor([[[-0.2316, -0.8765, -1.2680, -0.2764,  0.8412, -0.7650,  1.0826,\n",
      "          -0.7140],\n",
      "         [-0.3567, -0.9351, -1.1221, -0.3347,  0.9145, -0.6786,  0.8842,\n",
      "          -0.6992],\n",
      "         [ 0.0574, -0.4736, -1.4513, -0.0695,  0.6909, -0.6255,  1.2332,\n",
      "          -0.8025],\n",
      "         [-0.0403, -0.6667, -1.4379, -0.1408,  0.7269, -0.6249,  0.9919,\n",
      "          -0.8684]]], grad_fn=<ViewBackward0>)\n",
      "Contribution of each word to the loss: tensor([2.9023, 3.2083, 3.0281, 1.1244], grad_fn=<NllLossBackward0>)\n",
      "Total loss: 10.263071060180664\n",
      "\n",
      "Total gradient: -0.1308\n",
      "The addition of gradient of first token: -0.0417, second token: 0.0102, third token: -0.0172, fourth token: -0.0820 is: \n",
      "tensor(-0.1308)\n",
      "\n",
      "Are all the values equal of summed of gradient and total gradient: True\n",
      "tensor(-0.1308)\n",
      "Are all the values equal of without jacobian product-simply taking gradient and one taken by jacobian product: True\n"
     ]
    }
   ],
   "source": [
    "import torch as t\n",
    "import torch.nn as nn\n",
    "import argparse\n",
    "\n",
    "import warnings\n",
    "warnings.filterwarnings(\"ignore\")\n",
    "\n",
    "\n",
    "from imports import *\n",
    "from encoder import Encoder as encoder\n",
    "from decoder import Decoder as decoder\n",
    "\n",
    "# Taking a simple sent that will be passed into the transformer. \n",
    "sent: t.Tensor = t.randint(0, 8, (4,))\n",
    "out_sent: t.Tensor = t.randint(0, 8, (4,))\n",
    "\n",
    "print(f\"Input sent: {sent}\")\n",
    "print(f\"Output sent: {out_sent}\")\n",
    "\n",
    "class Transformer(nn.Module):\n",
    "    def __init__(self, num_heads: int, sent: t.Tensor, out_sent: t.Tensor):\n",
    "        super(Transformer, self).__init__()\n",
    "        self.encoder = encoder(num_heads, sent)\n",
    "        self.decoder = decoder(num_heads, out_sent)\n",
    "        self.linear_output = nn.Linear(512, 8)  # 8 is the vocabulary size\n",
    "\n",
    "        for params in self.parameters():\n",
    "            params.requires_grad = True\n",
    "\n",
    "    def forward(self) -> t.Tensor:\n",
    "        encoder_output = self.encoder.forward()\n",
    "        decoder_output = self.decoder.forward(encoder_output) \n",
    "        print(f\"Shape of Decoder output: {decoder_output.shape}\")\n",
    "        output = self.linear_output(decoder_output)\n",
    "        return output\n",
    "    \n",
    "# parser = argparse.ArgumentParser(\n",
    "ce_loss = nn.CrossEntropyLoss()\n",
    "num_heads = 2\n",
    "\n",
    "model = Transformer(num_heads, sent, out_sent)\n",
    "model.train()\n",
    "predicted_logits = model.forward()\n",
    "\n",
    "print(f\"The predicted logits are {predicted_logits}\")\n",
    "\n",
    "ce_loss_none = nn.CrossEntropyLoss(reduction='none')\n",
    "\n",
    "loss_contributions = ce_loss_none(predicted_logits.view(4, 8), out_sent)\n",
    "print(f\"Contribution of each word to the loss: {loss_contributions}\")\n",
    "\n",
    "loss = loss_contributions.sum()\n",
    "print(f\"Total loss: {loss}\"); print()\n",
    "\n",
    "loss_contributions.backward(t.tensor([1, 1, 1, 1], dtype=t.float32), retain_graph=True)\n",
    "total  = model.linear_output.weight.grad\n",
    "model.zero_grad()\n",
    "\n",
    "loss_contributions.backward(t.tensor([1, 0, 0, 0], dtype=t.float32), retain_graph=True)\n",
    "first_token  = model.linear_output.weight.grad\n",
    "model.zero_grad()\n",
    "\n",
    "loss_contributions.backward(t.tensor([0, 1, 0, 0], dtype=t.float32), retain_graph=True)\n",
    "second_token  = model.linear_output.weight.grad\n",
    "model.zero_grad()\n",
    "\n",
    "loss_contributions.backward(t.tensor([0, 0, 1, 0], dtype=t.float32), retain_graph=True)\n",
    "third_token  = model.linear_output.weight.grad\n",
    "model.zero_grad()\n",
    "\n",
    "loss_contributions.backward(t.tensor([0, 0, 0, 1], dtype=t.float32), retain_graph=True)\n",
    "fourth_token  = model.linear_output.weight.grad\n",
    "model.zero_grad()\n",
    "\n",
    "\n",
    "print(f\"Total gradient: {total[0,0]:.4f}\")\n",
    "print(f\"The addition of gradient of first token: {first_token[0,0]:.4f}, second token: {second_token[0,0]:.4f}, third token: {third_token[0,0]:.4f}, fourth token: {fourth_token[0,0]:.4f} is: \")\n",
    "print(first_token[0,0] + second_token[0,0] + third_token[0,0] + fourth_token[0,0])\n",
    "print()\n",
    "\n",
    "print(f\"Are all the values equal of summed of gradient and total gradient: {t.allclose(total, first_token + second_token + third_token + fourth_token)}\")\n",
    "\n",
    "loss.backward(retain_graph=True)\n",
    "_token  = model.linear_output.weight.grad\n",
    "print(_token[0][0])\n",
    "model.zero_grad()\n",
    "\n",
    "print(f\"Are all the values equal of without jacobian product-simply taking gradient and one taken by jacobian product: {t.allclose(total, _token)}\")"
   ]
  },
  {
   "cell_type": "code",
   "execution_count": 38,
   "metadata": {},
   "outputs": [
    {
     "name": "stdout",
     "output_type": "stream",
     "text": [
      "4.0047846889952154\n"
     ]
    }
   ],
   "source": [
    "x = -0.1674/-0.0418\n",
    "print(x)"
   ]
  },
  {
   "cell_type": "code",
   "execution_count": null,
   "metadata": {},
   "outputs": [],
   "source": []
  }
 ],
 "metadata": {
  "kernelspec": {
   "display_name": "transit",
   "language": "python",
   "name": "python3"
  },
  "language_info": {
   "codemirror_mode": {
    "name": "ipython",
    "version": 3
   },
   "file_extension": ".py",
   "mimetype": "text/x-python",
   "name": "python",
   "nbconvert_exporter": "python",
   "pygments_lexer": "ipython3",
   "version": "3.11.9"
  }
 },
 "nbformat": 4,
 "nbformat_minor": 2
}
