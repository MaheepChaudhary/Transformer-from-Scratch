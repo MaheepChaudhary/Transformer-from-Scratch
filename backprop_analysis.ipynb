{
 "cells": [
  {
   "cell_type": "code",
   "execution_count": 11,
   "metadata": {},
   "outputs": [
    {
     "name": "stdout",
     "output_type": "stream",
     "text": [
      "Input sent: tensor([0, 1, 4, 1])\n",
      "Output sent: tensor([5, 6, 5, 4])\n",
      "torch.Size([1, 4, 1024])\n",
      "Contribution of each word to the loss: tensor([2.0407, 2.7079, 2.0915, 2.7559], grad_fn=<NllLossBackward0>)\n"
     ]
    },
    {
     "name": "stderr",
     "output_type": "stream",
     "text": [
      "/Users/maheepchaudhary/pytorch/Projects/Transformer-from-Scratch/encoder.py:104: UserWarning: To copy construct from a tensor, it is recommended to use sourceTensor.clone().detach() or sourceTensor.clone().detach().requires_grad_(True), rather than torch.tensor(sourceTensor).\n",
      "  return t.tensor(final_sent, dtype = t.float32)\n",
      "/Users/maheepchaudhary/pytorch/Projects/Transformer-from-Scratch/decoder.py:52: UserWarning: To copy construct from a tensor, it is recommended to use sourceTensor.clone().detach() or sourceTensor.clone().detach().requires_grad_(True), rather than torch.tensor(sourceTensor).\n",
      "  return t.tensor(final_sent, dtype = t.float32)\n"
     ]
    }
   ],
   "source": [
    "import torch as t\n",
    "import torch.nn as nn\n",
    "import argparse\n",
    "\n",
    "from imports import *\n",
    "from encoder import Encoder as encoder\n",
    "from decoder import Decoder as decoder\n",
    "\n",
    "# Taking a simple sent that will be passed into the transformer. \n",
    "sent: t.Tensor = t.randint(0, 8, (4,))\n",
    "out_sent: t.Tensor = t.randint(0, 8, (4,))\n",
    "\n",
    "print(f\"Input sent: {sent}\")\n",
    "print(f\"Output sent: {out_sent}\")\n",
    "\n",
    "class Transformer(nn.Module):\n",
    "    def __init__(self, num_heads: int, sent: t.Tensor, out_sent: t.Tensor):\n",
    "        super(Transformer, self).__init__()\n",
    "        self.encoder = encoder(num_heads, sent)\n",
    "        self.decoder = decoder(num_heads, out_sent)\n",
    "\n",
    "    def output(self, decoder_output: t.Tensor) -> t.Tensor:\n",
    "        linear_output = nn.Linear(512, 8)(decoder_output)  # 8 is the vocabulary size\n",
    "        return linear_output\n",
    "\n",
    "    def forward(self) -> t.Tensor:\n",
    "        encoder_output = self.encoder.forward()\n",
    "        decoder_output = self.decoder.forward(encoder_output) \n",
    "        return self.output(decoder_output)\n",
    "# parser = argparse.ArgumentParser(\n",
    "ce_loss = nn.CrossEntropyLoss()\n",
    "num_heads = 2\n",
    "\n",
    "model = Transformer(num_heads, sent, out_sent)\n",
    "model.train()\n",
    "predicted_logits = model.forward()\n",
    "ce_loss_none = nn.CrossEntropyLoss(reduction='none')\n",
    "loss_contributions = ce_loss_none(predicted_logits.view(4, 8), out_sent)\n",
    "print(f\"Contribution of each word to the loss: {loss_contributions}\")"
   ]
  },
  {
   "cell_type": "code",
   "execution_count": 12,
   "metadata": {},
   "outputs": [],
   "source": [
    "loss_contributions.mean().backward(create_graph=True)"
   ]
  },
  {
   "cell_type": "code",
   "execution_count": 14,
   "metadata": {},
   "outputs": [
    {
     "data": {
      "text/plain": [
       "tensor([[ 9.5959e-05,  2.1622e-04,  8.3552e-05,  ...,  1.4928e-04,\n",
       "          4.8936e-05,  1.4928e-04],\n",
       "        [ 4.0750e-04,  2.9007e-04,  3.7078e-04,  ...,  1.5501e-04,\n",
       "          2.0285e-04,  1.5501e-04],\n",
       "        [-2.8666e-06,  8.7148e-05, -3.7111e-06,  ...,  7.6415e-05,\n",
       "          4.4379e-07,  7.6415e-05],\n",
       "        ...,\n",
       "        [ 6.4185e-05, -1.3429e-05,  7.6700e-05,  ...,  1.1356e-04,\n",
       "          5.1338e-05,  1.1356e-04],\n",
       "        [ 1.7569e-04,  4.4332e-04,  1.9392e-04,  ...,  6.6561e-04,\n",
       "          1.1842e-04,  6.6561e-04],\n",
       "        [ 1.7234e-05, -9.1292e-05,  2.2618e-05,  ..., -4.3527e-05,\n",
       "          1.8944e-05, -4.3527e-05]], grad_fn=<CopyBackwards>)"
      ]
     },
     "execution_count": 14,
     "metadata": {},
     "output_type": "execute_result"
    }
   ],
   "source": []
  },
  {
   "cell_type": "code",
   "execution_count": 8,
   "metadata": {},
   "outputs": [
    {
     "data": {
      "text/plain": [
       "Transformer(\n",
       "  (encoder): Encoder(\n",
       "    (W_q): Linear(in_features=512, out_features=1024, bias=True)\n",
       "    (W_k): Linear(in_features=512, out_features=1024, bias=True)\n",
       "    (W_v): Linear(in_features=512, out_features=1024, bias=True)\n",
       "    (W_o): Linear(in_features=1024, out_features=512, bias=True)\n",
       "    (layer_norm): LayerNorm((512,), eps=1e-05, elementwise_affine=True)\n",
       "    (fc1): Linear(in_features=512, out_features=1024, bias=True)\n",
       "    (fc2): Linear(in_features=1024, out_features=512, bias=True)\n",
       "    (relu): ReLU()\n",
       "  )\n",
       "  (decoder): Decoder(\n",
       "    (W_q): Linear(in_features=512, out_features=1024, bias=True)\n",
       "    (W_k): Linear(in_features=512, out_features=1024, bias=True)\n",
       "    (W_v): Linear(in_features=512, out_features=1024, bias=True)\n",
       "    (W_q_m): Linear(in_features=512, out_features=1024, bias=True)\n",
       "    (W_k_m): Linear(in_features=512, out_features=1024, bias=True)\n",
       "    (W_v_m): Linear(in_features=512, out_features=1024, bias=True)\n",
       "    (W_o): Linear(in_features=1024, out_features=512, bias=True)\n",
       "    (W_o_m): Linear(in_features=1024, out_features=512, bias=True)\n",
       "    (layer_norm): LayerNorm((512,), eps=1e-05, elementwise_affine=True)\n",
       "    (fc1): Linear(in_features=512, out_features=1024, bias=True)\n",
       "    (fc2): Linear(in_features=1024, out_features=512, bias=True)\n",
       "    (relu): ReLU()\n",
       "  )\n",
       ")"
      ]
     },
     "execution_count": 8,
     "metadata": {},
     "output_type": "execute_result"
    }
   ],
   "source": [
    "model"
   ]
  },
  {
   "cell_type": "code",
   "execution_count": null,
   "metadata": {},
   "outputs": [],
   "source": []
  }
 ],
 "metadata": {
  "kernelspec": {
   "display_name": "transit",
   "language": "python",
   "name": "python3"
  },
  "language_info": {
   "codemirror_mode": {
    "name": "ipython",
    "version": 3
   },
   "file_extension": ".py",
   "mimetype": "text/x-python",
   "name": "python",
   "nbconvert_exporter": "python",
   "pygments_lexer": "ipython3",
   "version": "3.11.9"
  }
 },
 "nbformat": 4,
 "nbformat_minor": 2
}
